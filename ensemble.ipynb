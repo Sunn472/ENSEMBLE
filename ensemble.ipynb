{
  "nbformat": 4,
  "nbformat_minor": 0,
  "metadata": {
    "colab": {
      "provenance": []
    },
    "kernelspec": {
      "name": "python3",
      "display_name": "Python 3"
    },
    "language_info": {
      "name": "python"
    }
  },
  "cells": [
    {
      "cell_type": "code",
      "execution_count": 1,
      "metadata": {
        "colab": {
          "base_uri": "https://localhost:8080/"
        },
        "id": "1QG294mQS7jg",
        "outputId": "9548aad5-75ef-4965-f25a-deab0e621731"
      },
      "outputs": [
        {
          "output_type": "stream",
          "name": "stdout",
          "text": [
            "Bagging Classifier Accuracy: 0.97\n"
          ]
        }
      ],
      "source": [
        "'''\n",
        "Q21.Train a Bagging Classifier using Decision Trees on a sample dataset and\n",
        "print model accuracy\n",
        "'''\n",
        "from sklearn.datasets import load_iris\n",
        "from sklearn.ensemble import BaggingClassifier\n",
        "from sklearn.tree import DecisionTreeClassifier\n",
        "from sklearn.model_selection import train_test_split\n",
        "from sklearn.metrics import accuracy_score\n",
        "\n",
        "X, y = load_iris(return_X_y=True)\n",
        "X_train, X_test, y_train, y_test = train_test_split(X, y, test_size=0.2,\n",
        "                                                    random_state=1)\n",
        "bagging_model = BaggingClassifier(estimator=DecisionTreeClassifier(),\n",
        "                                  n_estimators=10, random_state=1)\n",
        "bagging_model.fit(X_train, y_train)\n",
        "predictions = bagging_model.predict(X_test)\n",
        "accuracy = accuracy_score(y_test, predictions)\n",
        "print(f'Bagging Classifier Accuracy: {accuracy:.2f}')\n"
      ]
    },
    {
      "cell_type": "code",
      "source": [
        "'''\n",
        "Q22. Train a Bagging Regressor using Decision Trees and evaluate using Mean\n",
        "Squared Error (MSE)\n",
        "'''\n",
        "from sklearn.datasets import fetch_california_housing\n",
        "from sklearn.ensemble import BaggingRegressor\n",
        "from sklearn.tree import DecisionTreeRegressor\n",
        "from sklearn.model_selection import train_test_split\n",
        "from sklearn.metrics import mean_squared_error\n",
        "\n",
        "X, y = fetch_california_housing(return_X_y=True)\n",
        "X_train, X_test, y_train, y_test = train_test_split(X, y, test_size=0.2,\n",
        "                                                    random_state=1)\n",
        "bagging_reg = BaggingRegressor(estimator=DecisionTreeRegressor(),\n",
        "                               n_estimators=10, random_state=1)\n",
        "bagging_reg.fit(X_train, y_train)\n",
        "y_pred = bagging_reg.predict(X_test)\n",
        "mse = mean_squared_error(y_test, y_pred)\n",
        "print(f'Bagging Regressor MSE: {mse:.2f}')\n"
      ],
      "metadata": {
        "colab": {
          "base_uri": "https://localhost:8080/"
        },
        "id": "40ER3k-FTv0b",
        "outputId": "37fcea91-7a64-4322-94d6-a7782c2f6123"
      },
      "execution_count": 2,
      "outputs": [
        {
          "output_type": "stream",
          "name": "stdout",
          "text": [
            "Bagging Regressor MSE: 0.28\n"
          ]
        }
      ]
    },
    {
      "cell_type": "code",
      "source": [
        "'''\n",
        "Q23. Train a Random Forest Classifier on the Breast Cancer dataset and print\n",
        "feature importance scores\n",
        "'''\n",
        "from sklearn.datasets import load_breast_cancer\n",
        "from sklearn.ensemble import RandomForestClassifier\n",
        "import pandas as pd\n",
        "\n",
        "data = load_breast_cancer()\n",
        "X, y = data.data, data.target\n",
        "rf = RandomForestClassifier(n_estimators=100, random_state=1)\n",
        "rf.fit(X, y)\n",
        "importances = rf.feature_importances_\n",
        "feature_importance = pd.Series(importances, index=data.feature_names).sort_values(ascending=False)\n",
        "print(feature_importance)\n"
      ],
      "metadata": {
        "colab": {
          "base_uri": "https://localhost:8080/"
        },
        "id": "Ea5SaEW8T-fR",
        "outputId": "2be89560-5497-459d-ea36-2dfdf81cfba6"
      },
      "execution_count": 3,
      "outputs": [
        {
          "output_type": "stream",
          "name": "stdout",
          "text": [
            "worst concave points       0.123350\n",
            "worst perimeter            0.115661\n",
            "worst area                 0.105248\n",
            "worst radius               0.102798\n",
            "mean concave points        0.100735\n",
            "mean concavity             0.082333\n",
            "mean perimeter             0.060027\n",
            "mean radius                0.058311\n",
            "mean area                  0.038194\n",
            "area error                 0.026039\n",
            "worst concavity            0.023454\n",
            "worst texture              0.019609\n",
            "radius error               0.018681\n",
            "worst compactness          0.018258\n",
            "mean texture               0.017238\n",
            "worst smoothness           0.011117\n",
            "worst symmetry             0.010102\n",
            "mean smoothness            0.007813\n",
            "worst fractal dimension    0.007431\n",
            "fractal dimension error    0.007344\n",
            "concave points error       0.006212\n",
            "perimeter error            0.005255\n",
            "texture error              0.005171\n",
            "smoothness error           0.005098\n",
            "mean compactness           0.005092\n",
            "symmetry error             0.004517\n",
            "concavity error            0.004487\n",
            "compactness error          0.004358\n",
            "mean symmetry              0.003311\n",
            "mean fractal dimension     0.002758\n",
            "dtype: float64\n"
          ]
        }
      ]
    },
    {
      "cell_type": "code",
      "source": [
        "'''\n",
        "Q24. Train a Random Forest Regressor and compare its performance with a single\n",
        "Decision Tree\n",
        "'''\n",
        "from sklearn.datasets import fetch_california_housing\n",
        "from sklearn.ensemble import RandomForestRegressor\n",
        "from sklearn.tree import DecisionTreeRegressor\n",
        "from sklearn.model_selection import train_test_split\n",
        "from sklearn.metrics import mean_squared_error\n",
        "\n",
        "X, y = fetch_california_housing(return_X_y=True)\n",
        "X_train, X_test, y_train, y_test = train_test_split(X, y, test_size=0.2,\n",
        "                                                    random_state=1)\n",
        "\n",
        "rf_reg = RandomForestRegressor(n_estimators=100, random_state=1)\n",
        "rf_reg.fit(X_train, y_train)\n",
        "rf_pred = rf_reg.predict(X_test)\n",
        "rf_mse = mean_squared_error(y_test, rf_pred)\n",
        "\n",
        "dt_reg = DecisionTreeRegressor(random_state=1)\n",
        "dt_reg.fit(X_train, y_train)\n",
        "dt_pred = dt_reg.predict(X_test)\n",
        "dt_mse = mean_squared_error(y_test, dt_pred)\n",
        "\n",
        "print(f'Random Forest MSE: {rf_mse:.2f}')\n",
        "print(f'Decision Tree MSE: {dt_mse:.2f}')\n"
      ],
      "metadata": {
        "colab": {
          "base_uri": "https://localhost:8080/"
        },
        "id": "D2wutSG1UdCt",
        "outputId": "e90937bc-22da-4433-a11c-f84e2f9a76c4"
      },
      "execution_count": 4,
      "outputs": [
        {
          "output_type": "stream",
          "name": "stdout",
          "text": [
            "Random Forest MSE: 0.25\n",
            "Decision Tree MSE: 0.50\n"
          ]
        }
      ]
    },
    {
      "cell_type": "code",
      "source": [
        "'''\n",
        "Q25.  Compute the Out-of-Bag (OOB) Score for a Random Forest Classifier\n",
        "'''\n",
        "from sklearn.datasets import load_iris\n",
        "from sklearn.ensemble import RandomForestClassifier\n",
        "\n",
        "X, y = load_iris(return_X_y=True)\n",
        "rf = RandomForestClassifier(n_estimators=100, oob_score=True, random_state=1)\n",
        "rf.fit(X, y)\n",
        "print(f'OOB Score: {rf.oob_score_:.2f}')"
      ],
      "metadata": {
        "colab": {
          "base_uri": "https://localhost:8080/"
        },
        "id": "q-NZ1slNUvxM",
        "outputId": "a9a84e1d-d75c-4377-873a-91f5100246c6"
      },
      "execution_count": 5,
      "outputs": [
        {
          "output_type": "stream",
          "name": "stdout",
          "text": [
            "OOB Score: 0.95\n"
          ]
        }
      ]
    },
    {
      "cell_type": "code",
      "source": [
        "'''\n",
        "Q26. Train a Bagging Classifier using SVM as a base estimator and print accuracy\n",
        "'''\n",
        "from sklearn.datasets import load_iris\n",
        "from sklearn.ensemble import BaggingClassifier\n",
        "from sklearn.svm import SVC\n",
        "from sklearn.model_selection import train_test_split\n",
        "from sklearn.metrics import accuracy_score\n",
        "\n",
        "X, y = load_iris(return_X_y=True)\n",
        "X_train, X_test, y_train, y_test = train_test_split(X, y, test_size=0.2,\n",
        "                                                    random_state=1)\n",
        "bagging_svm = BaggingClassifier(estimator=SVC(), n_estimators=10,\n",
        "                                random_state=1)\n",
        "bagging_svm.fit(X_train, y_train)\n",
        "predictions = bagging_svm.predict(X_test)\n",
        "accuracy = accuracy_score(y_test, predictions)\n",
        "print(f'Bagging SVM Accuracy: {accuracy:.2f}')\n"
      ],
      "metadata": {
        "colab": {
          "base_uri": "https://localhost:8080/"
        },
        "id": "WOZpLjDlVHn2",
        "outputId": "d840053b-cf4d-4352-83f2-87091266fa34"
      },
      "execution_count": 6,
      "outputs": [
        {
          "output_type": "stream",
          "name": "stdout",
          "text": [
            "Bagging SVM Accuracy: 0.97\n"
          ]
        }
      ]
    },
    {
      "cell_type": "code",
      "source": [
        "'''\n",
        "Q27. Train a Random Forest Classifier with different numbers of trees and\n",
        "compare accuracy\n",
        "'''\n",
        "from sklearn.datasets import load_iris\n",
        "from sklearn.ensemble import RandomForestClassifier\n",
        "from sklearn.model_selection import train_test_split\n",
        "from sklearn.metrics import accuracy_score\n",
        "\n",
        "X, y = load_iris(return_X_y=True)\n",
        "X_train, X_test, y_train, y_test = train_test_split(X, y, test_size=0.2,\n",
        "                                                    random_state=1)\n",
        "\n",
        "for n in [10, 50, 100, 200]:\n",
        "    rf = RandomForestClassifier(n_estimators=n, random_state=1)\n",
        "    rf.fit(X_train, y_train)\n",
        "    accuracy = accuracy_score(y_test, rf.predict(X_test))\n",
        "    print(f'Random Forest ({n} trees) Accuracy: {accuracy:.2f}')\n"
      ],
      "metadata": {
        "colab": {
          "base_uri": "https://localhost:8080/"
        },
        "id": "Rp0y4rLVVWYr",
        "outputId": "c022ad03-ed23-41ef-e7f1-9c9b17ff0146"
      },
      "execution_count": 7,
      "outputs": [
        {
          "output_type": "stream",
          "name": "stdout",
          "text": [
            "Random Forest (10 trees) Accuracy: 0.97\n",
            "Random Forest (50 trees) Accuracy: 0.97\n",
            "Random Forest (100 trees) Accuracy: 0.97\n",
            "Random Forest (200 trees) Accuracy: 0.97\n"
          ]
        }
      ]
    },
    {
      "cell_type": "code",
      "source": [
        "'''\n",
        "Q28. Train a Bagging Classifier using Logistic Regression as a base estimator\n",
        "and print AUC score\n",
        "'''\n",
        "from sklearn.datasets import load_breast_cancer\n",
        "from sklearn.ensemble import BaggingClassifier\n",
        "from sklearn.linear_model import LogisticRegression\n",
        "from sklearn.model_selection import train_test_split\n",
        "from sklearn.metrics import roc_auc_score\n",
        "\n",
        "X, y = load_breast_cancer(return_X_y=True)\n",
        "X_train, X_test, y_train, y_test = train_test_split(X, y, test_size=0.2,\n",
        "                                                    random_state=42)\n",
        "bagging_lr = BaggingClassifier(estimator=LogisticRegression(max_iter=5000),\n",
        "                               n_estimators=10, random_state=42)\n",
        "bagging_lr.fit(X_train, y_train)\n",
        "probs = bagging_lr.predict_proba(X_test)[:, 1]\n",
        "auc = roc_auc_score(y_test, probs)\n",
        "print(f'Bagging Logistic Regression AUC: {auc:.2f}')\n",
        "\n",
        "\n"
      ],
      "metadata": {
        "colab": {
          "base_uri": "https://localhost:8080/"
        },
        "id": "0XaOUpRSVjQH",
        "outputId": "eb1dbbfc-67e5-4e2f-fd1c-ad697abee3b8"
      },
      "execution_count": 8,
      "outputs": [
        {
          "output_type": "stream",
          "name": "stdout",
          "text": [
            "Bagging Logistic Regression AUC: 1.00\n"
          ]
        }
      ]
    },
    {
      "cell_type": "code",
      "source": [
        "'''\n",
        "Q29. Train a Random Forest Regressor and analyze feature importance scores\n",
        "'''\n",
        "from sklearn.datasets import fetch_california_housing\n",
        "from sklearn.ensemble import RandomForestRegressor\n",
        "import pandas as pd\n",
        "\n",
        "X, y = fetch_california_housing(return_X_y=True)\n",
        "rf_reg = RandomForestRegressor(n_estimators=100, random_state=42)\n",
        "rf_reg.fit(X, y)\n",
        "importances = rf_reg.feature_importances_\n",
        "feature_importance = pd.Series(importances, index=fetch_california_housing().feature_names).sort_values(ascending=False)\n",
        "print(feature_importance)\n"
      ],
      "metadata": {
        "colab": {
          "base_uri": "https://localhost:8080/"
        },
        "id": "tMhl7CaQVwVQ",
        "outputId": "6d105b1d-0bd1-4d35-bb3b-1bb8943b7065"
      },
      "execution_count": 9,
      "outputs": [
        {
          "output_type": "stream",
          "name": "stdout",
          "text": [
            "MedInc        0.520037\n",
            "AveOccup      0.136406\n",
            "Latitude      0.092856\n",
            "Longitude     0.092694\n",
            "HouseAge      0.052964\n",
            "AveRooms      0.044513\n",
            "Population    0.031232\n",
            "AveBedrms     0.029299\n",
            "dtype: float64\n"
          ]
        }
      ]
    },
    {
      "cell_type": "code",
      "source": [
        "'''\n",
        "Q30. Train an ensemble model using both Bagging and Random Forest and\n",
        "compare accuracy.\n",
        "'''\n",
        "from sklearn.datasets import load_iris\n",
        "from sklearn.ensemble import BaggingClassifier, RandomForestClassifier\n",
        "from sklearn.tree import DecisionTreeClassifier\n",
        "from sklearn.model_selection import train_test_split\n",
        "from sklearn.metrics import accuracy_score\n",
        "\n",
        "X, y = load_iris(return_X_y=True)\n",
        "X_train, X_test, y_train, y_test = train_test_split(X, y, test_size=0.2,\n",
        "                                                    random_state=1)\n",
        "\n",
        "bagging = BaggingClassifier(estimator=DecisionTreeClassifier(), n_estimators=10,\n",
        "                            random_state=1)\n",
        "bagging.fit(X_train, y_train)\n",
        "bagging_acc = accuracy_score(y_test, bagging.predict(X_test))\n",
        "\n",
        "rf = RandomForestClassifier(n_estimators=10, random_state=1)\n",
        "rf.fit(X_train, y_train)\n",
        "rf_acc = accuracy_score(y_test, rf.predict(X_test))\n",
        "\n",
        "print(f'Bagging Accuracy: {bagging_acc:.2f}')\n",
        "print(f'Random Forest Accuracy: {rf_acc:.2f}')\n"
      ],
      "metadata": {
        "colab": {
          "base_uri": "https://localhost:8080/"
        },
        "id": "yDWbL1lSW5Lv",
        "outputId": "e078d86e-d692-440f-b4a7-eb21ca6a8671"
      },
      "execution_count": 10,
      "outputs": [
        {
          "output_type": "stream",
          "name": "stdout",
          "text": [
            "Bagging Accuracy: 0.97\n",
            "Random Forest Accuracy: 0.97\n"
          ]
        }
      ]
    },
    {
      "cell_type": "code",
      "source": [
        "'''\n",
        "Q31. Train a Random Forest Classifier and tune hyperparameters using\n",
        "GridSearchCV\n",
        "'''\n",
        "from sklearn.datasets import load_iris\n",
        "from sklearn.ensemble import RandomForestClassifier\n",
        "from sklearn.model_selection import GridSearchCV\n",
        "\n",
        "X, y = load_iris(return_X_y=True)\n",
        "param_grid = {\n",
        "    'n_estimators': [10, 50, 100],\n",
        "    'max_depth': [None, 5, 10],\n",
        "    'min_samples_split': [2, 5]\n",
        "}\n",
        "grid = GridSearchCV(RandomForestClassifier(random_state=42), param_grid, cv=5)\n",
        "grid.fit(X, y)\n",
        "print(\"Best parameters:\", grid.best_params_)\n"
      ],
      "metadata": {
        "colab": {
          "base_uri": "https://localhost:8080/"
        },
        "id": "j-7ECSsHXeQF",
        "outputId": "6c92fb51-e35e-4839-8204-4d54743eed7e"
      },
      "execution_count": 11,
      "outputs": [
        {
          "output_type": "stream",
          "name": "stdout",
          "text": [
            "Best parameters: {'max_depth': None, 'min_samples_split': 2, 'n_estimators': 10}\n"
          ]
        }
      ]
    },
    {
      "cell_type": "code",
      "source": [],
      "metadata": {
        "id": "ACjDA800YeQN"
      },
      "execution_count": 11,
      "outputs": []
    },
    {
      "cell_type": "code",
      "source": [
        "'''\n",
        "Q32. Train a Bagging Regressor with different numbers of base estimators and\n",
        "compare performance\n",
        "'''\n",
        "from sklearn.datasets import fetch_california_housing\n",
        "from sklearn.ensemble import BaggingRegressor\n",
        "from sklearn.tree import DecisionTreeRegressor\n",
        "from sklearn.model_selection import train_test_split\n",
        "from sklearn.metrics import mean_squared_error\n",
        "\n",
        "X, y = fetch_california_housing(return_X_y=True)\n",
        "X_train, X_test, y_train, y_test = train_test_split(X, y, test_size=0.2,\n",
        "                                                    random_state=42)\n",
        "for n in [5, 10, 50, 100]:\n",
        "    model = BaggingRegressor(DecisionTreeRegressor(), n_estimators=n,\n",
        "                             random_state=42)\n",
        "    model.fit(X_train, y_train)\n",
        "    y_pred = model.predict(X_test)\n",
        "    mse = mean_squared_error(y_test, y_pred)\n",
        "    print(f\"Estimators: {n}, MSE: {mse:.2f}\")\n"
      ],
      "metadata": {
        "colab": {
          "base_uri": "https://localhost:8080/"
        },
        "id": "cUFiFJxNYQkD",
        "outputId": "f861746b-5c20-4de0-cd5e-f2224d62022c"
      },
      "execution_count": 12,
      "outputs": [
        {
          "output_type": "stream",
          "name": "stdout",
          "text": [
            "Estimators: 5, MSE: 0.31\n",
            "Estimators: 10, MSE: 0.28\n",
            "Estimators: 50, MSE: 0.26\n",
            "Estimators: 100, MSE: 0.26\n"
          ]
        }
      ]
    },
    {
      "cell_type": "code",
      "source": [
        "'''\n",
        "Q33. Train a Random Forest Classifier and analyze misclassified samples\n",
        "'''\n",
        "from sklearn.datasets import load_iris\n",
        "from sklearn.ensemble import RandomForestClassifier\n",
        "from sklearn.model_selection import train_test_split\n",
        "\n",
        "X, y = load_iris(return_X_y=True)\n",
        "X_train, X_test, y_train, y_test = train_test_split(X, y, test_size=0.2,\n",
        "                                                    random_state=1)\n",
        "rf = RandomForestClassifier(random_state=42)\n",
        "rf.fit(X_train, y_train)\n",
        "y_pred = rf.predict(X_test)\n",
        "misclassified = X_test[y_pred != y_test]\n",
        "print(\"Misclassified samples:\\n\", misclassified)\n"
      ],
      "metadata": {
        "colab": {
          "base_uri": "https://localhost:8080/"
        },
        "id": "TfiMJcyHY1oD",
        "outputId": "8ca676e0-84ae-44d8-fdc9-a25f07772b9e"
      },
      "execution_count": 13,
      "outputs": [
        {
          "output_type": "stream",
          "name": "stdout",
          "text": [
            "Misclassified samples:\n",
            " [[6.7 3.  5.  1.7]]\n"
          ]
        }
      ]
    },
    {
      "cell_type": "code",
      "source": [
        "'''\n",
        "Q34. Train a Bagging Classifier and compare its performance with a single\n",
        "Decision Tree Classifier.\n",
        "'''\n",
        "from sklearn.datasets import load_iris\n",
        "from sklearn.ensemble import BaggingClassifier\n",
        "from sklearn.tree import DecisionTreeClassifier\n",
        "from sklearn.model_selection import train_test_split\n",
        "from sklearn.metrics import accuracy_score\n",
        "\n",
        "X, y = load_iris(return_X_y=True)\n",
        "X_train, X_test, y_train, y_test = train_test_split(X, y, test_size=0.2,\n",
        "                                                    random_state=1)\n",
        "bag = BaggingClassifier(DecisionTreeClassifier(), n_estimators=10,\n",
        "                        random_state=1)\n",
        "bag.fit(X_train, y_train)\n",
        "bag_acc = accuracy_score(y_test, bag.predict(X_test))\n",
        "\n",
        "dt = DecisionTreeClassifier(random_state=1)\n",
        "dt.fit(X_train, y_train)\n",
        "dt_acc = accuracy_score(y_test, dt.predict(X_test))\n",
        "\n",
        "print(f\"Bagging Accuracy: {bag_acc:.2f}\")\n",
        "print(f\"Decision Tree Accuracy: {dt_acc:.2f}\")\n"
      ],
      "metadata": {
        "colab": {
          "base_uri": "https://localhost:8080/"
        },
        "id": "1999ANccZMoH",
        "outputId": "9b2510fd-1d9f-43b3-9087-fa0705365c28"
      },
      "execution_count": 14,
      "outputs": [
        {
          "output_type": "stream",
          "name": "stdout",
          "text": [
            "Bagging Accuracy: 0.97\n",
            "Decision Tree Accuracy: 0.97\n"
          ]
        }
      ]
    },
    {
      "cell_type": "code",
      "source": [
        "'''\n",
        "Q35. Train a Random Forest Classifier and visualize the confusion matrix\n",
        "'''\n",
        "from sklearn.datasets import load_iris\n",
        "from sklearn.ensemble import RandomForestClassifier\n",
        "from sklearn.model_selection import train_test_split\n",
        "from sklearn.metrics import ConfusionMatrixDisplay\n",
        "\n",
        "X, y = load_iris(return_X_y=True)\n",
        "X_train, X_test, y_train, y_test = train_test_split(X, y, test_size=0.2,\n",
        "                                                    random_state=1)\n",
        "rf = RandomForestClassifier(random_state=1)\n",
        "rf.fit(X_train, y_train)\n",
        "ConfusionMatrixDisplay.from_estimator(rf, X_test, y_test)\n"
      ],
      "metadata": {
        "colab": {
          "base_uri": "https://localhost:8080/",
          "height": 472
        },
        "id": "d-XfmjIMZZiP",
        "outputId": "a93fd176-5a1f-4366-aea9-37ce24386603"
      },
      "execution_count": 15,
      "outputs": [
        {
          "output_type": "execute_result",
          "data": {
            "text/plain": [
              "<sklearn.metrics._plot.confusion_matrix.ConfusionMatrixDisplay at 0x7f4a3910a310>"
            ]
          },
          "metadata": {},
          "execution_count": 15
        },
        {
          "output_type": "display_data",
          "data": {
            "text/plain": [
              "<Figure size 640x480 with 2 Axes>"
            ],
            "image/png": "[encoded data removed]"
          },
          "metadata": {}
        }
      ]
    },
    {
      "cell_type": "code",
      "source": [
        "'''\n",
        "Q36. Train a Stacking Classifier using Decision Trees, SVM, and Logistic\n",
        "Regression, and compare accuracy\n",
        "'''\n",
        "from sklearn.datasets import load_iris\n",
        "from sklearn.ensemble import StackingClassifier\n",
        "from sklearn.tree import DecisionTreeClassifier\n",
        "from sklearn.svm import SVC\n",
        "from sklearn.linear_model import LogisticRegression\n",
        "from sklearn.model_selection import train_test_split\n",
        "from sklearn.metrics import accuracy_score\n",
        "\n",
        "X, y = load_iris(return_X_y=True)\n",
        "X_train, X_test, y_train, y_test = train_test_split(X, y, test_size=0.2,\n",
        "                                                    random_state=1)\n",
        "estimators = [\n",
        "    ('dt', DecisionTreeClassifier()),\n",
        "    ('svm', SVC(probability=True)),\n",
        "]\n",
        "stack = StackingClassifier(estimators=estimators,\n",
        "                           final_estimator=LogisticRegression())\n",
        "stack.fit(X_train, y_train)\n",
        "acc = accuracy_score(y_test, stack.predict(X_test))\n",
        "print(f\"Stacking Classifier Accuracy: {acc:.2f}\")\n"
      ],
      "metadata": {
        "colab": {
          "base_uri": "https://localhost:8080/"
        },
        "id": "AZGSQKybZiF3",
        "outputId": "f5589a5f-8f2f-479d-ea34-e7ef481915b9"
      },
      "execution_count": 16,
      "outputs": [
        {
          "output_type": "stream",
          "name": "stdout",
          "text": [
            "Stacking Classifier Accuracy: 0.97\n"
          ]
        }
      ]
    },
    {
      "cell_type": "code",
      "source": [
        "'''\n",
        "Q37. Train a Random Forest Classifier and print the top 5 most important\n",
        "features.\n",
        "'''\n",
        "from sklearn.datasets import load_breast_cancer\n",
        "from sklearn.ensemble import RandomForestClassifier\n",
        "import pandas as pd\n",
        "\n",
        "data = load_breast_cancer()\n",
        "rf = RandomForestClassifier(random_state=1)\n",
        "rf.fit(data.data, data.target)\n",
        "importances = pd.Series(rf.feature_importances_, index=data.feature_names)\n",
        "print(importances.sort_values(ascending=False).head(5))\n"
      ],
      "metadata": {
        "colab": {
          "base_uri": "https://localhost:8080/"
        },
        "id": "InO_NUKxZoXv",
        "outputId": "415781ec-ee88-4ef0-8407-6c9e6dd64585"
      },
      "execution_count": 17,
      "outputs": [
        {
          "output_type": "stream",
          "name": "stdout",
          "text": [
            "worst concave points    0.123350\n",
            "worst perimeter         0.115661\n",
            "worst area              0.105248\n",
            "worst radius            0.102798\n",
            "mean concave points     0.100735\n",
            "dtype: float64\n"
          ]
        }
      ]
    },
    {
      "cell_type": "code",
      "source": [
        "'''\n",
        "Q38. Train a Bagging Classifier and evaluate performance using Precision,\n",
        "Recall, and F1-score\n",
        "'''\n",
        "from sklearn.datasets import load_iris\n",
        "from sklearn.ensemble import BaggingClassifier\n",
        "from sklearn.tree import DecisionTreeClassifier\n",
        "from sklearn.model_selection import train_test_split\n",
        "from sklearn.metrics import precision_score, recall_score, f1_score\n",
        "\n",
        "X, y = load_iris(return_X_y=True)\n",
        "X_train, X_test, y_train, y_test = train_test_split(X, y, test_size=0.2,\n",
        "                                                    random_state=1)\n",
        "bag = BaggingClassifier(DecisionTreeClassifier(), n_estimators=10,\n",
        "                        random_state=1)\n",
        "bag.fit(X_train, y_train)\n",
        "y_pred = bag.predict(X_test)\n",
        "print(\"Precision:\", precision_score(y_test, y_pred, average='macro'))\n",
        "print(\"Recall:\", recall_score(y_test, y_pred, average='macro'))\n",
        "print(\"F1-score:\", f1_score(y_test, y_pred, average='macro'))\n"
      ],
      "metadata": {
        "colab": {
          "base_uri": "https://localhost:8080/"
        },
        "id": "Z49m8rp9Z2qU",
        "outputId": "7027b552-a622-482d-98d1-7aa6cc888d67"
      },
      "execution_count": 18,
      "outputs": [
        {
          "output_type": "stream",
          "name": "stdout",
          "text": [
            "Precision: 0.9523809523809524\n",
            "Recall: 0.9743589743589745\n",
            "F1-score: 0.9610256410256411\n"
          ]
        }
      ]
    },
    {
      "cell_type": "code",
      "source": [
        "'''\n",
        "Q39. Train a Random Forest Classifier and analyze the effect of max_depth\n",
        "on accuracy.\n",
        "'''\n",
        "from sklearn.datasets import load_iris\n",
        "from sklearn.ensemble import RandomForestClassifier\n",
        "from sklearn.model_selection import train_test_split\n",
        "from sklearn.metrics import accuracy_score\n",
        "\n",
        "X, y = load_iris(return_X_y=True)\n",
        "X_train, X_test, y_train, y_test = train_test_split(X, y, test_size=0.2,\n",
        "                                                    random_state=1)\n",
        "for depth in [None, 2, 4, 6, 8]:\n",
        "    rf = RandomForestClassifier(max_depth=depth, random_state=1)\n",
        "    rf.fit(X_train, y_train)\n",
        "    acc = accuracy_score(y_test, rf.predict(X_test))\n",
        "    print(f\"max_depth={depth}, Accuracy={acc:.2f}\")\n"
      ],
      "metadata": {
        "colab": {
          "base_uri": "https://localhost:8080/"
        },
        "id": "SEMwjnyRaCX2",
        "outputId": "f2d7d1df-6828-4c37-da4e-6ff71c551161"
      },
      "execution_count": 19,
      "outputs": [
        {
          "output_type": "stream",
          "name": "stdout",
          "text": [
            "max_depth=None, Accuracy=0.97\n",
            "max_depth=2, Accuracy=0.97\n",
            "max_depth=4, Accuracy=0.97\n",
            "max_depth=6, Accuracy=0.97\n",
            "max_depth=8, Accuracy=0.97\n"
          ]
        }
      ]
    },
    {
      "cell_type": "code",
      "source": [
        "'''\n",
        "Q40. Train a Bagging Regressor using different base estimators (DecisionTree and\n",
        "KNeighbors) and compare performance\n",
        "'''\n",
        "from sklearn.datasets import fetch_california_housing\n",
        "from sklearn.ensemble import BaggingRegressor\n",
        "from sklearn.tree import DecisionTreeRegressor\n",
        "from sklearn.neighbors import KNeighborsRegressor\n",
        "from sklearn.model_selection import train_test_split\n",
        "from sklearn.metrics import mean_squared_error\n",
        "\n",
        "X, y = fetch_california_housing(return_X_y=True)\n",
        "X_train, X_test, y_train, y_test = train_test_split(X, y, test_size=0.2,\n",
        "                                                    random_state=1)\n",
        "for base in [DecisionTreeRegressor(), KNeighborsRegressor()]:\n",
        "    bag = BaggingRegressor(base, n_estimators=10, random_state=1)\n",
        "    bag.fit(X_train, y_train)\n",
        "    mse = mean_squared_error(y_test, bag.predict(X_test))\n",
        "    print(f\"{base.__class__.__name__} MSE: {mse:.2f}\")\n",
        ""
      ],
      "metadata": {
        "colab": {
          "base_uri": "https://localhost:8080/"
        },
        "id": "J_2Ve1AWa_lP",
        "outputId": "e047274c-64d2-4a6c-9a9a-a3558187fecc"
      },
      "execution_count": 20,
      "outputs": [
        {
          "output_type": "stream",
          "name": "stdout",
          "text": [
            "DecisionTreeRegressor MSE: 0.28\n",
            "KNeighborsRegressor MSE: 1.11\n"
          ]
        }
      ]
    },
    {
      "cell_type": "code",
      "source": [
        "'''\n",
        "Q41. Train a Random Forest Classifier and evaluate its performance using\n",
        "ROC-AUC Score\n",
        "'''\n",
        "from sklearn.datasets import load_breast_cancer\n",
        "from sklearn.ensemble import RandomForestClassifier\n",
        "from sklearn.model_selection import train_test_split\n",
        "from sklearn.metrics import roc_auc_score\n",
        "\n",
        "X, y = load_breast_cancer(return_X_y=True)\n",
        "X_train, X_test, y_train, y_test = train_test_split(X, y, test_size=0.2,\n",
        "                                                    random_state=1)\n",
        "rf = RandomForestClassifier(random_state=1)\n",
        "rf.fit(X_train, y_train)\n",
        "probs = rf.predict_proba(X_test)[:, 1]\n",
        "auc = roc_auc_score(y_test, probs)\n",
        "print(f\"ROC-AUC Score: {auc:.2f}\")\n"
      ],
      "metadata": {
        "colab": {
          "base_uri": "https://localhost:8080/"
        },
        "id": "8ef8cDlXbEg4",
        "outputId": "f41e5b6d-bd1f-4efd-e2b2-0f55dc695544"
      },
      "execution_count": 21,
      "outputs": [
        {
          "output_type": "stream",
          "name": "stdout",
          "text": [
            "ROC-AUC Score: 0.98\n"
          ]
        }
      ]
    },
    {
      "cell_type": "code",
      "source": [
        "'''\n",
        "Q42. Train a Bagging Classifier and evaluate its performance using\n",
        "cross-validation\n",
        "'''\n",
        "from sklearn.datasets import load_iris\n",
        "from sklearn.ensemble import BaggingClassifier\n",
        "from sklearn.tree import DecisionTreeClassifier\n",
        "from sklearn.model_selection import cross_val_score\n",
        "\n",
        "X, y = load_iris(return_X_y=True)\n",
        "bag = BaggingClassifier(DecisionTreeClassifier(), n_estimators=10,\n",
        "                        random_state=1)\n",
        "scores = cross_val_score(bag, X, y, cv=5)\n",
        "print(\"Cross-validation scores:\", scores)\n",
        "print(\"Mean accuracy:\", scores.mean())\n"
      ],
      "metadata": {
        "colab": {
          "base_uri": "https://localhost:8080/"
        },
        "id": "qjpI8cdrbLu2",
        "outputId": "85740997-0a53-46ca-8f45-b8030edf8417"
      },
      "execution_count": 22,
      "outputs": [
        {
          "output_type": "stream",
          "name": "stdout",
          "text": [
            "Cross-validation scores: [0.96666667 0.96666667 0.9        0.96666667 1.        ]\n",
            "Mean accuracy: 0.9600000000000002\n"
          ]
        }
      ]
    },
    {
      "cell_type": "code",
      "source": [
        "'''\n",
        "Q43. Train a Random Forest Classifier and plot the Precision-Recall curve\n",
        "'''\n",
        "\n",
        "from sklearn.datasets import load_breast_cancer\n",
        "from sklearn.ensemble import RandomForestClassifier\n",
        "from sklearn.model_selection import train_test_split\n",
        "from sklearn.metrics import precision_recall_curve, PrecisionRecallDisplay\n",
        "import matplotlib.pyplot as plt\n",
        "\n",
        "X, y = load_breast_cancer(return_X_y=True)\n",
        "X_train, X_test, y_train, y_test = train_test_split(X, y, test_size=0.2, random_state=42)\n",
        "rf = RandomForestClassifier(random_state=42)\n",
        "rf.fit(X_train, y_train)\n",
        "probs = rf.predict_proba(X_test)[:, 1]\n",
        "precision, recall, _ = precision_recall_curve(y_test, probs)\n",
        "PrecisionRecallDisplay(precision=precision, recall=recall).plot()\n",
        "plt.show()\n"
      ],
      "metadata": {
        "colab": {
          "base_uri": "https://localhost:8080/",
          "height": 451
        },
        "id": "pbe1YA-BbX9j",
        "outputId": "a2ae4818-8007-44fd-a168-52172c129cdc"
      },
      "execution_count": 23,
      "outputs": [
        {
          "output_type": "display_data",
          "data": {
            "text/plain": [
              "<Figure size 640x480 with 1 Axes>"
            ],
            "image/png": "[encoded data removed]"
          },
          "metadata": {}
        }
      ]
    },
    {
      "cell_type": "code",
      "source": [
        "'''\n",
        "Q44. Train a Stacking Classifier with Random Forest and Logistic Regression and\n",
        "compare accuracy.\n",
        "'''\n",
        "from sklearn.datasets import load_iris\n",
        "from sklearn.ensemble import StackingClassifier, RandomForestClassifier\n",
        "from sklearn.linear_model import LogisticRegression\n",
        "from sklearn.model_selection import train_test_split\n",
        "from sklearn.metrics import accuracy_score\n",
        "\n",
        "X, y = load_iris(return_X_y=True)\n",
        "X_train, X_test, y_train, y_test = train_test_split(X, y, test_size=0.2,\n",
        "                                                    random_state=1)\n",
        "estimators = [\n",
        "    ('rf', RandomForestClassifier()),\n",
        "]\n",
        "stack = StackingClassifier(estimators=estimators, final_estimator=LogisticRegression())\n",
        "stack.fit(X_train, y_train)\n",
        "acc = accuracy_score(y_test, stack.predict(X_test))\n",
        "print(f\"Stacking Classifier Accuracy: {acc:.2f}\")\n"
      ],
      "metadata": {
        "colab": {
          "base_uri": "https://localhost:8080/"
        },
        "id": "0uEp1ulYbgjs",
        "outputId": "fb05f664-f3d9-46a7-e391-9fabfc6312cf"
      },
      "execution_count": 24,
      "outputs": [
        {
          "output_type": "stream",
          "name": "stdout",
          "text": [
            "Stacking Classifier Accuracy: 0.97\n"
          ]
        }
      ]
    },
    {
      "cell_type": "code",
      "source": [
        "'''\n",
        "Q45. Train a Bagging Regressor with different levels of bootstrap samples and\n",
        "compare performance.\n",
        "'''\n",
        "from sklearn.datasets import fetch_california_housing\n",
        "from sklearn.ensemble import BaggingRegressor\n",
        "from sklearn.tree import DecisionTreeRegressor\n",
        "from sklearn.model_selection import train_test_split\n",
        "from sklearn.metrics import mean_squared_error\n",
        "\n",
        "X, y = fetch_california_housing(return_X_y=True)\n",
        "X_train, X_test, y_train, y_test = train_test_split(X, y, test_size=0.2,\n",
        "                                                    random_state=1)\n",
        "for max_samples in [0.5, 0.7, 1.0]:\n",
        "    bag = BaggingRegressor(DecisionTreeRegressor(), n_estimators=10,\n",
        "                           max_samples=max_samples, random_state=1)\n",
        "    bag.fit(X_train, y_train)\n",
        "    mse = mean_squared_error(y_test, bag.predict(X_test))\n",
        "    print(f\"Bootstrap samples: {max_samples}, MSE: {mse:.2f}\")\n"
      ],
      "metadata": {
        "colab": {
          "base_uri": "https://localhost:8080/"
        },
        "id": "-1tGTJbqbogG",
        "outputId": "dc960a85-9028-4101-ceb9-58d83db2f184"
      },
      "execution_count": 25,
      "outputs": [
        {
          "output_type": "stream",
          "name": "stdout",
          "text": [
            "Bootstrap samples: 0.5, MSE: 0.30\n",
            "Bootstrap samples: 0.7, MSE: 0.29\n",
            "Bootstrap samples: 1.0, MSE: 0.28\n"
          ]
        }
      ]
    },
    {
      "cell_type": "code",
      "source": [],
      "metadata": {
        "id": "Md-W8M16b9ls"
      },
      "execution_count": 25,
      "outputs": []
    }
  ]
}